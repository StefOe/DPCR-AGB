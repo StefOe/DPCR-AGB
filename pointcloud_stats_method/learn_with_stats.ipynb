{
 "cells": [
  {
   "cell_type": "code",
   "execution_count": 1,
   "id": "f7927e81",
   "metadata": {},
   "outputs": [
    {
     "name": "stderr",
     "output_type": "stream",
     "text": [
      "/home/stefan/.conda/envs/pts/lib/python3.8/site-packages/scipy/__init__.py:146: UserWarning: A NumPy version >=1.16.5 and <1.23.0 is required for this version of SciPy (detected version 1.24.4\n",
      "  warnings.warn(f\"A NumPy version >={np_minversion} and <{np_maxversion}\"\n"
     ]
    }
   ],
   "source": [
    "import pandas as pd\n",
    "import numpy as np\n",
    "from pathlib import Path\n",
    "import glob\n",
    "from joblib import load\n",
    "from sklearn.metrics import r2_score"
   ]
  },
  {
   "cell_type": "markdown",
   "id": "954b6c05",
   "metadata": {},
   "source": [
    "# look at stats"
   ]
  },
  {
   "cell_type": "code",
   "execution_count": 4,
   "id": "836b6c7c",
   "metadata": {},
   "outputs": [],
   "source": [
    "# we only include the anonomysed set as agreed with the data owners\n",
    "\n",
    "df_train = pd.read_csv(\"../nfi-data/train_split.csv\")\n",
    "df_val = pd.read_csv(\"../nfi-data/val_split.csv\")\n",
    "df_test = pd.read_csv(\"../nfi-data/test_split.csv\")"
   ]
  },
  {
   "cell_type": "code",
   "execution_count": 5,
   "id": "229e28c0",
   "metadata": {},
   "outputs": [],
   "source": [
    "df_train.eval(\"temp_diff_years = temp_diff_days / 365\", inplace=True)\n",
    "df_val.eval(\"temp_diff_years = temp_diff_days / 365\", inplace=True)\n",
    "df_test.eval(\"temp_diff_years = temp_diff_days / 365\", inplace=True)"
   ]
  },
  {
   "cell_type": "code",
   "execution_count": 6,
   "id": "01da773a",
   "metadata": {},
   "outputs": [
    {
     "data": {
      "text/plain": [
       "919"
      ]
     },
     "execution_count": 6,
     "metadata": {},
     "output_type": "execute_result"
    }
   ],
   "source": [
    "len(df_val)"
   ]
  },
  {
   "cell_type": "code",
   "execution_count": 7,
   "id": "f7e8a4e2",
   "metadata": {},
   "outputs": [],
   "source": [
    "variable_list = [\n",
    "    \"h_mean_1_\",\n",
    "    \"h_mean_2_\",\n",
    "    \"h_std_1_\",\n",
    "    \"h_std_2_\",\n",
    "    \"h_coov_1_\",\n",
    "    \"h_coov_2_\",\n",
    "    \"h_kur_1_\",\n",
    "    \"h_kur_2_\",\n",
    "    \"h_skew_1_\",\n",
    "    \"h_skew_2_\",\n",
    "    \"IR_\",\n",
    "    *[f\"h_q{i}_1_\" for i in [5, 10, 25, 50, 75, 90, 95, 99]],\n",
    "    *[f\"h_q{i}_2_\" for i in [5, 10, 25, 50, 75, 90, 95, 99]],\n",
    "    \"temp_diff_years\"\n",
    "]"
   ]
  },
  {
   "cell_type": "code",
   "execution_count": 8,
   "id": "62dc65ee",
   "metadata": {},
   "outputs": [],
   "source": [
    "target_list = [\"BMag_ha\", \"V_ha\"]"
   ]
  },
  {
   "cell_type": "code",
   "execution_count": 9,
   "id": "a202a5b8",
   "metadata": {},
   "outputs": [
    {
     "data": {
      "text/html": [
       "<div>\n",
       "<style scoped>\n",
       "    .dataframe tbody tr th:only-of-type {\n",
       "        vertical-align: middle;\n",
       "    }\n",
       "\n",
       "    .dataframe tbody tr th {\n",
       "        vertical-align: top;\n",
       "    }\n",
       "\n",
       "    .dataframe thead th {\n",
       "        text-align: right;\n",
       "    }\n",
       "</style>\n",
       "<table border=\"1\" class=\"dataframe\">\n",
       "  <thead>\n",
       "    <tr style=\"text-align: right;\">\n",
       "      <th></th>\n",
       "      <th>h_mean_1_</th>\n",
       "      <th>h_mean_2_</th>\n",
       "      <th>h_std_1_</th>\n",
       "      <th>h_std_2_</th>\n",
       "      <th>h_coov_1_</th>\n",
       "      <th>h_coov_2_</th>\n",
       "      <th>h_kur_1_</th>\n",
       "      <th>h_kur_2_</th>\n",
       "      <th>h_skew_1_</th>\n",
       "      <th>h_skew_2_</th>\n",
       "      <th>...</th>\n",
       "      <th>h_q99_1_</th>\n",
       "      <th>h_q5_2_</th>\n",
       "      <th>h_q10_2_</th>\n",
       "      <th>h_q25_2_</th>\n",
       "      <th>h_q50_2_</th>\n",
       "      <th>h_q75_2_</th>\n",
       "      <th>h_q90_2_</th>\n",
       "      <th>h_q95_2_</th>\n",
       "      <th>h_q99_2_</th>\n",
       "      <th>temp_diff_years</th>\n",
       "    </tr>\n",
       "  </thead>\n",
       "  <tbody>\n",
       "    <tr>\n",
       "      <th>count</th>\n",
       "      <td>919.000000</td>\n",
       "      <td>919.000000</td>\n",
       "      <td>919.000000</td>\n",
       "      <td>919.000000</td>\n",
       "      <td>919.000000</td>\n",
       "      <td>919.000000</td>\n",
       "      <td>919.000000</td>\n",
       "      <td>919.000000</td>\n",
       "      <td>919.000000</td>\n",
       "      <td>919.000000</td>\n",
       "      <td>...</td>\n",
       "      <td>919.000000</td>\n",
       "      <td>919.000000</td>\n",
       "      <td>919.000000</td>\n",
       "      <td>919.000000</td>\n",
       "      <td>919.00000</td>\n",
       "      <td>919.000000</td>\n",
       "      <td>919.000000</td>\n",
       "      <td>919.000000</td>\n",
       "      <td>919.000000</td>\n",
       "      <td>919.000000</td>\n",
       "    </tr>\n",
       "    <tr>\n",
       "      <th>mean</th>\n",
       "      <td>7.756886</td>\n",
       "      <td>10.737537</td>\n",
       "      <td>5.021482</td>\n",
       "      <td>3.619087</td>\n",
       "      <td>1.067221</td>\n",
       "      <td>0.382178</td>\n",
       "      <td>22.067038</td>\n",
       "      <td>2.080255</td>\n",
       "      <td>0.551701</td>\n",
       "      <td>-0.235734</td>\n",
       "      <td>...</td>\n",
       "      <td>16.771935</td>\n",
       "      <td>4.393771</td>\n",
       "      <td>5.840024</td>\n",
       "      <td>8.442274</td>\n",
       "      <td>11.08420</td>\n",
       "      <td>13.304094</td>\n",
       "      <td>15.007245</td>\n",
       "      <td>15.913966</td>\n",
       "      <td>17.312287</td>\n",
       "      <td>-0.070031</td>\n",
       "    </tr>\n",
       "    <tr>\n",
       "      <th>std</th>\n",
       "      <td>5.650914</td>\n",
       "      <td>5.826700</td>\n",
       "      <td>2.618811</td>\n",
       "      <td>1.775645</td>\n",
       "      <td>1.104352</td>\n",
       "      <td>0.218708</td>\n",
       "      <td>280.693397</td>\n",
       "      <td>14.606087</td>\n",
       "      <td>4.220633</td>\n",
       "      <td>1.242230</td>\n",
       "      <td>...</td>\n",
       "      <td>7.569541</td>\n",
       "      <td>3.862539</td>\n",
       "      <td>4.677638</td>\n",
       "      <td>5.669329</td>\n",
       "      <td>6.37934</td>\n",
       "      <td>6.791960</td>\n",
       "      <td>7.077031</td>\n",
       "      <td>7.250701</td>\n",
       "      <td>7.457928</td>\n",
       "      <td>0.555424</td>\n",
       "    </tr>\n",
       "    <tr>\n",
       "      <th>min</th>\n",
       "      <td>-0.024825</td>\n",
       "      <td>1.112857</td>\n",
       "      <td>0.053250</td>\n",
       "      <td>0.087785</td>\n",
       "      <td>-4.656972</td>\n",
       "      <td>0.069645</td>\n",
       "      <td>-1.926685</td>\n",
       "      <td>-2.000000</td>\n",
       "      <td>-13.816676</td>\n",
       "      <td>-3.078436</td>\n",
       "      <td>...</td>\n",
       "      <td>0.070000</td>\n",
       "      <td>1.010000</td>\n",
       "      <td>1.020000</td>\n",
       "      <td>1.030000</td>\n",
       "      <td>1.07500</td>\n",
       "      <td>1.150000</td>\n",
       "      <td>1.197000</td>\n",
       "      <td>1.252500</td>\n",
       "      <td>1.330500</td>\n",
       "      <td>-1.000000</td>\n",
       "    </tr>\n",
       "    <tr>\n",
       "      <th>25%</th>\n",
       "      <td>3.179662</td>\n",
       "      <td>6.239891</td>\n",
       "      <td>3.099313</td>\n",
       "      <td>2.383729</td>\n",
       "      <td>0.535194</td>\n",
       "      <td>0.262913</td>\n",
       "      <td>-1.173350</td>\n",
       "      <td>-0.621735</td>\n",
       "      <td>-0.683866</td>\n",
       "      <td>-0.871200</td>\n",
       "      <td>...</td>\n",
       "      <td>11.371750</td>\n",
       "      <td>1.590000</td>\n",
       "      <td>2.185000</td>\n",
       "      <td>3.743750</td>\n",
       "      <td>6.01250</td>\n",
       "      <td>8.045000</td>\n",
       "      <td>9.776000</td>\n",
       "      <td>10.440000</td>\n",
       "      <td>11.883950</td>\n",
       "      <td>-0.613699</td>\n",
       "    </tr>\n",
       "    <tr>\n",
       "      <th>50%</th>\n",
       "      <td>6.672952</td>\n",
       "      <td>9.647054</td>\n",
       "      <td>4.635112</td>\n",
       "      <td>3.401080</td>\n",
       "      <td>0.798720</td>\n",
       "      <td>0.354456</td>\n",
       "      <td>-0.470218</td>\n",
       "      <td>-0.028935</td>\n",
       "      <td>0.003507</td>\n",
       "      <td>-0.356868</td>\n",
       "      <td>...</td>\n",
       "      <td>16.860200</td>\n",
       "      <td>2.865000</td>\n",
       "      <td>4.172000</td>\n",
       "      <td>7.060000</td>\n",
       "      <td>9.95000</td>\n",
       "      <td>12.360000</td>\n",
       "      <td>14.560000</td>\n",
       "      <td>15.696500</td>\n",
       "      <td>17.290000</td>\n",
       "      <td>0.068493</td>\n",
       "    </tr>\n",
       "    <tr>\n",
       "      <th>75%</th>\n",
       "      <td>11.129150</td>\n",
       "      <td>14.899706</td>\n",
       "      <td>6.880495</td>\n",
       "      <td>4.625316</td>\n",
       "      <td>1.197607</td>\n",
       "      <td>0.444563</td>\n",
       "      <td>1.494342</td>\n",
       "      <td>1.175310</td>\n",
       "      <td>0.886396</td>\n",
       "      <td>0.223805</td>\n",
       "      <td>...</td>\n",
       "      <td>22.560900</td>\n",
       "      <td>5.934000</td>\n",
       "      <td>8.335000</td>\n",
       "      <td>12.132500</td>\n",
       "      <td>15.76000</td>\n",
       "      <td>18.273750</td>\n",
       "      <td>20.246000</td>\n",
       "      <td>21.307000</td>\n",
       "      <td>22.789950</td>\n",
       "      <td>0.410959</td>\n",
       "    </tr>\n",
       "    <tr>\n",
       "      <th>max</th>\n",
       "      <td>26.873604</td>\n",
       "      <td>28.328451</td>\n",
       "      <td>15.993492</td>\n",
       "      <td>14.319471</td>\n",
       "      <td>13.515706</td>\n",
       "      <td>2.933647</td>\n",
       "      <td>5577.448026</td>\n",
       "      <td>253.406503</td>\n",
       "      <td>68.145993</td>\n",
       "      <td>12.024318</td>\n",
       "      <td>...</td>\n",
       "      <td>44.660000</td>\n",
       "      <td>21.680000</td>\n",
       "      <td>24.490000</td>\n",
       "      <td>27.530000</td>\n",
       "      <td>29.80500</td>\n",
       "      <td>37.080000</td>\n",
       "      <td>40.994000</td>\n",
       "      <td>42.590000</td>\n",
       "      <td>46.510000</td>\n",
       "      <td>0.936986</td>\n",
       "    </tr>\n",
       "  </tbody>\n",
       "</table>\n",
       "<p>8 rows × 28 columns</p>\n",
       "</div>"
      ],
      "text/plain": [
       "        h_mean_1_   h_mean_2_    h_std_1_    h_std_2_   h_coov_1_   h_coov_2_  \\\n",
       "count  919.000000  919.000000  919.000000  919.000000  919.000000  919.000000   \n",
       "mean     7.756886   10.737537    5.021482    3.619087    1.067221    0.382178   \n",
       "std      5.650914    5.826700    2.618811    1.775645    1.104352    0.218708   \n",
       "min     -0.024825    1.112857    0.053250    0.087785   -4.656972    0.069645   \n",
       "25%      3.179662    6.239891    3.099313    2.383729    0.535194    0.262913   \n",
       "50%      6.672952    9.647054    4.635112    3.401080    0.798720    0.354456   \n",
       "75%     11.129150   14.899706    6.880495    4.625316    1.197607    0.444563   \n",
       "max     26.873604   28.328451   15.993492   14.319471   13.515706    2.933647   \n",
       "\n",
       "          h_kur_1_    h_kur_2_   h_skew_1_   h_skew_2_  ...    h_q99_1_  \\\n",
       "count   919.000000  919.000000  919.000000  919.000000  ...  919.000000   \n",
       "mean     22.067038    2.080255    0.551701   -0.235734  ...   16.771935   \n",
       "std     280.693397   14.606087    4.220633    1.242230  ...    7.569541   \n",
       "min      -1.926685   -2.000000  -13.816676   -3.078436  ...    0.070000   \n",
       "25%      -1.173350   -0.621735   -0.683866   -0.871200  ...   11.371750   \n",
       "50%      -0.470218   -0.028935    0.003507   -0.356868  ...   16.860200   \n",
       "75%       1.494342    1.175310    0.886396    0.223805  ...   22.560900   \n",
       "max    5577.448026  253.406503   68.145993   12.024318  ...   44.660000   \n",
       "\n",
       "          h_q5_2_    h_q10_2_    h_q25_2_   h_q50_2_    h_q75_2_    h_q90_2_  \\\n",
       "count  919.000000  919.000000  919.000000  919.00000  919.000000  919.000000   \n",
       "mean     4.393771    5.840024    8.442274   11.08420   13.304094   15.007245   \n",
       "std      3.862539    4.677638    5.669329    6.37934    6.791960    7.077031   \n",
       "min      1.010000    1.020000    1.030000    1.07500    1.150000    1.197000   \n",
       "25%      1.590000    2.185000    3.743750    6.01250    8.045000    9.776000   \n",
       "50%      2.865000    4.172000    7.060000    9.95000   12.360000   14.560000   \n",
       "75%      5.934000    8.335000   12.132500   15.76000   18.273750   20.246000   \n",
       "max     21.680000   24.490000   27.530000   29.80500   37.080000   40.994000   \n",
       "\n",
       "         h_q95_2_    h_q99_2_  temp_diff_years  \n",
       "count  919.000000  919.000000       919.000000  \n",
       "mean    15.913966   17.312287        -0.070031  \n",
       "std      7.250701    7.457928         0.555424  \n",
       "min      1.252500    1.330500        -1.000000  \n",
       "25%     10.440000   11.883950        -0.613699  \n",
       "50%     15.696500   17.290000         0.068493  \n",
       "75%     21.307000   22.789950         0.410959  \n",
       "max     42.590000   46.510000         0.936986  \n",
       "\n",
       "[8 rows x 28 columns]"
      ]
     },
     "execution_count": 9,
     "metadata": {},
     "output_type": "execute_result"
    }
   ],
   "source": [
    "df_val[variable_list].describe()"
   ]
  },
  {
   "cell_type": "code",
   "execution_count": 10,
   "id": "cd534652",
   "metadata": {},
   "outputs": [
    {
     "data": {
      "text/html": [
       "<div>\n",
       "<style scoped>\n",
       "    .dataframe tbody tr th:only-of-type {\n",
       "        vertical-align: middle;\n",
       "    }\n",
       "\n",
       "    .dataframe tbody tr th {\n",
       "        vertical-align: top;\n",
       "    }\n",
       "\n",
       "    .dataframe thead th {\n",
       "        text-align: right;\n",
       "    }\n",
       "</style>\n",
       "<table border=\"1\" class=\"dataframe\">\n",
       "  <thead>\n",
       "    <tr style=\"text-align: right;\">\n",
       "      <th></th>\n",
       "      <th>BMag_ha</th>\n",
       "      <th>V_ha</th>\n",
       "    </tr>\n",
       "  </thead>\n",
       "  <tbody>\n",
       "    <tr>\n",
       "      <th>count</th>\n",
       "      <td>919.000000</td>\n",
       "      <td>919.000000</td>\n",
       "    </tr>\n",
       "    <tr>\n",
       "      <th>mean</th>\n",
       "      <td>112.378628</td>\n",
       "      <td>210.213042</td>\n",
       "    </tr>\n",
       "    <tr>\n",
       "      <th>std</th>\n",
       "      <td>105.828078</td>\n",
       "      <td>195.837800</td>\n",
       "    </tr>\n",
       "    <tr>\n",
       "      <th>min</th>\n",
       "      <td>0.000000</td>\n",
       "      <td>0.000000</td>\n",
       "    </tr>\n",
       "    <tr>\n",
       "      <th>25%</th>\n",
       "      <td>29.292855</td>\n",
       "      <td>52.422856</td>\n",
       "    </tr>\n",
       "    <tr>\n",
       "      <th>50%</th>\n",
       "      <td>86.551500</td>\n",
       "      <td>154.638388</td>\n",
       "    </tr>\n",
       "    <tr>\n",
       "      <th>75%</th>\n",
       "      <td>165.194985</td>\n",
       "      <td>325.370432</td>\n",
       "    </tr>\n",
       "    <tr>\n",
       "      <th>max</th>\n",
       "      <td>668.081976</td>\n",
       "      <td>1176.918249</td>\n",
       "    </tr>\n",
       "  </tbody>\n",
       "</table>\n",
       "</div>"
      ],
      "text/plain": [
       "          BMag_ha         V_ha\n",
       "count  919.000000   919.000000\n",
       "mean   112.378628   210.213042\n",
       "std    105.828078   195.837800\n",
       "min      0.000000     0.000000\n",
       "25%     29.292855    52.422856\n",
       "50%     86.551500   154.638388\n",
       "75%    165.194985   325.370432\n",
       "max    668.081976  1176.918249"
      ]
     },
     "execution_count": 10,
     "metadata": {},
     "output_type": "execute_result"
    }
   ],
   "source": [
    "df_val[target_list].describe()"
   ]
  },
  {
   "cell_type": "code",
   "execution_count": 11,
   "id": "958358bd",
   "metadata": {},
   "outputs": [
    {
     "data": {
      "text/plain": [
       "array([<AxesSubplot: ylabel='Frequency'>,\n",
       "       <AxesSubplot: ylabel='Frequency'>], dtype=object)"
      ]
     },
     "execution_count": 11,
     "metadata": {},
     "output_type": "execute_result"
    },
    {
     "data": {
      "image/png": "[encoded data removed]",
      "text/plain": [
       "<Figure size 640x480 with 2 Axes>"
      ]
     },
     "metadata": {},
     "output_type": "display_data"
    }
   ],
   "source": [
    "df_val[target_list].plot.hist(bins=100, subplots=True)"
   ]
  },
  {
   "cell_type": "code",
   "execution_count": 12,
   "id": "08199065",
   "metadata": {},
   "outputs": [],
   "source": [
    "X_train = df_train[variable_list + target_list ]\n",
    "X_val = df_val[variable_list + target_list]\n",
    "X_test = df_test[variable_list + target_list ]"
   ]
  },
  {
   "cell_type": "code",
   "execution_count": 13,
   "id": "02ed1cb4",
   "metadata": {},
   "outputs": [],
   "source": [
    "def rmse_loss(x, y):\n",
    "    return ((x-y)**2).mean()**.5"
   ]
  },
  {
   "cell_type": "markdown",
   "id": "e5eb81bf",
   "metadata": {},
   "source": [
    "## linear model with sklearn"
   ]
  },
  {
   "cell_type": "code",
   "execution_count": 14,
   "id": "485019d1",
   "metadata": {},
   "outputs": [],
   "source": [
    "from sklearn.linear_model import LinearRegression\n",
    "from sklearn.impute import SimpleImputer"
   ]
  },
  {
   "cell_type": "code",
   "execution_count": 15,
   "id": "e00a025a",
   "metadata": {
    "scrolled": true
   },
   "outputs": [
    {
     "name": "stdout",
     "output_type": "stream",
     "text": [
      "RMSE:\n",
      "\tBMag_ha: 51.999\n",
      "\tV_ha: 96.744\n",
      "R2 score:\n",
      "\tBMag_ha: 0.742\n",
      "\tV_ha: 0.747\n"
     ]
    },
    {
     "name": "stderr",
     "output_type": "stream",
     "text": [
      "/tmp/ipykernel_10413/256522388.py:2: FutureWarning: The frame.append method is deprecated and will be removed from pandas in a future version. Use pandas.concat instead.\n",
      "  X_trainval = X_train.append(X_val)\n"
     ]
    },
    {
     "data": {
      "text/plain": [
       "[None, None]"
      ]
     },
     "execution_count": 15,
     "metadata": {},
     "output_type": "execute_result"
    }
   ],
   "source": [
    "# pure linear model\n",
    "X_trainval = X_train.append(X_val)\n",
    "\n",
    "imputer = SimpleImputer().fit(X_trainval[variable_list])\n",
    "X_train_ = imputer.transform(X_trainval[variable_list])\n",
    "model = LinearRegression().fit(\n",
    "    X_train_, \n",
    "    X_trainval[target_list]\n",
    ")\n",
    "y_pred = model.predict(imputer.transform(X_test[variable_list]))\n",
    "y_pred = np.clip(y_pred, a_min=0, a_max=None)\n",
    "rmse = []\n",
    "r2 = []\n",
    "for i, name in enumerate(target_list):\n",
    "    rmse.append(rmse_loss(X_test[target_list[i]], y_pred[:, i]))\n",
    "    r2.append(r2_score(X_test[target_list[i]], y_pred[:, i]))\n",
    "    \n",
    "print(f\"RMSE:\")\n",
    "[print(f\"\\t{target}: {score:.3f}\") for target, score in zip(target_list, rmse)]\n",
    "       \n",
    "print(f\"R2 score:\")\n",
    "[print(f\"\\t{target}: {score:.3f}\") for target, score in zip(target_list, r2)]"
   ]
  },
  {
   "cell_type": "code",
   "execution_count": 16,
   "id": "73a90ee1",
   "metadata": {},
   "outputs": [],
   "source": [
    "y_pred_train = model.predict(imputer.transform(X_train[variable_list]))\n",
    "# np.savetxt(\"linreg_train.csv\", y_pred_train)\n",
    "\n",
    "y_pred_val = model.predict(imputer.transform(X_val[variable_list]))\n",
    "# np.savetxt(\"linreg_val.csv\", y_pred_val)\n",
    "\n",
    "y_pred_test = model.predict(imputer.transform(X_test[variable_list]))\n",
    "# np.savetxt(\"linreg_test.csv\", y_pred_test)"
   ]
  },
  {
   "cell_type": "code",
   "execution_count": 17,
   "id": "cb2e5a83",
   "metadata": {},
   "outputs": [
    {
     "name": "stdout",
     "output_type": "stream",
     "text": [
      "RMSE:\n",
      "\tBMag_ha: 54.368\n",
      "\tV_ha: 95.053\n",
      "R2 score:\n",
      "\tBMag_ha: 0.736\n",
      "\tV_ha: 0.764\n"
     ]
    },
    {
     "data": {
      "text/plain": [
       "[None, None]"
      ]
     },
     "execution_count": 17,
     "metadata": {},
     "output_type": "execute_result"
    }
   ],
   "source": [
    "y_pred_val = np.clip(y_pred_val, a_min=0, a_max=None)\n",
    "rmse = []\n",
    "r2 = []\n",
    "for i, name in enumerate(target_list):\n",
    "    rmse.append(rmse_loss(X_val[target_list[i]], y_pred_val[:, i]))\n",
    "    r2.append(r2_score(X_val[target_list[i]], y_pred_val[:, i]))\n",
    "\n",
    "print(f\"RMSE:\")\n",
    "[print(f\"\\t{target}: {score:.3f}\") for target, score in zip(target_list, rmse)]\n",
    "       \n",
    "print(f\"R2 score:\")\n",
    "[print(f\"\\t{target}: {score:.3f}\") for target, score in zip(target_list, r2)]"
   ]
  },
  {
   "cell_type": "markdown",
   "id": "c66446ac",
   "metadata": {},
   "source": [
    "## RF with sklearn"
   ]
  },
  {
   "cell_type": "code",
   "execution_count": 18,
   "id": "6456ddfd",
   "metadata": {},
   "outputs": [],
   "source": [
    "from sklearn.ensemble import RandomForestRegressor"
   ]
  },
  {
   "cell_type": "code",
   "execution_count": 19,
   "id": "56441402",
   "metadata": {},
   "outputs": [],
   "source": [
    "imputer = SimpleImputer(strategy=\"constant\", fill_value=-100).fit(X_trainval[variable_list])"
   ]
  },
  {
   "cell_type": "code",
   "execution_count": 20,
   "id": "65256bf6",
   "metadata": {},
   "outputs": [],
   "source": [
    "from sklearn.model_selection import ParameterGrid\n",
    "param_grid = {\n",
    "    # Number of features to consider at every split\n",
    "   'max_features': np.arange(0.1, 1.1, 0.1),\n",
    "    # depth of tree (None means full depth)\n",
    "   'max_depth': list(np.arange(5, 21)) + [None],\n",
    "    # Minimum number of samples required at each leaf node\n",
    "   'min_samples_leaf': [1] + list(np.arange(2, 17, 2)),\n",
    "    # Method of selecting samples for training each tree\n",
    "    \"max_samples\": np.arange(0.1, 1.1, 0.1),\n",
    "   'bootstrap': [True],\n",
    "}\n",
    "pgrid = ParameterGrid(param_grid)"
   ]
  },
  {
   "cell_type": "code",
   "execution_count": null,
   "id": "b3cbedf8",
   "metadata": {},
   "outputs": [],
   "source": [
    "from tqdm.auto import tqdm\n",
    "best_score = -np.inf\n",
    "best_p = {}\n",
    "best_rf = None\n",
    "pbar = tqdm(pgrid)\n",
    "for p in pbar:\n",
    "    pbar.set_postfix_str(str(p))\n",
    "    pbar.refresh()\n",
    "    rf = RandomForestRegressor(1000, n_jobs=-1, oob_score=True, **p).fit(\n",
    "        imputer.transform(X_trainval[variable_list]), \n",
    "        X_trainval[target_list]\n",
    "    )\n",
    "    if rf.oob_score_ > best_score:\n",
    "        best_score = rf.oob_score_\n",
    "        best_p = p\n",
    "        best_rf = rf"
   ]
  },
  {
   "cell_type": "code",
   "execution_count": null,
   "id": "ed215d65",
   "metadata": {},
   "outputs": [],
   "source": [
    "# print(f\"best params: {best_p}\")"
   ]
  },
  {
   "cell_type": "code",
   "execution_count": 22,
   "id": "34f9d264",
   "metadata": {},
   "outputs": [],
   "source": [
    "best_p = {'bootstrap': True, 'max_depth': 11, 'max_features': 0.9, 'max_samples': 0.2, 'min_samples_leaf': 6}"
   ]
  },
  {
   "cell_type": "code",
   "execution_count": 23,
   "id": "7e25184b",
   "metadata": {},
   "outputs": [],
   "source": [
    "best_rf = RandomForestRegressor(5000, n_jobs=-1, oob_score=True, **best_p).fit(\n",
    "    imputer.transform(X_trainval[variable_list]), \n",
    "    X_trainval[target_list]\n",
    ")"
   ]
  },
  {
   "cell_type": "code",
   "execution_count": 24,
   "id": "6c3092c8",
   "metadata": {},
   "outputs": [
    {
     "name": "stdout",
     "output_type": "stream",
     "text": [
      "RMSE:\n",
      "\tBMag_ha: 50.176\n",
      "\tV_ha: 87.487\n",
      "R2 score:\n",
      "\tBMag_ha: 0.775\n",
      "\tV_ha: 0.800\n"
     ]
    },
    {
     "data": {
      "text/plain": [
       "[None, None]"
      ]
     },
     "execution_count": 24,
     "metadata": {},
     "output_type": "execute_result"
    }
   ],
   "source": [
    "y_pred = best_rf.predict(imputer.transform(X_val[variable_list]))\n",
    "y_pred = np.clip(y_pred, a_min=0, a_max=None)\n",
    "rmse = []\n",
    "r2 = []\n",
    "for i, name in enumerate(target_list):\n",
    "    rmse.append(rmse_loss(X_val[target_list[i]], y_pred[:, i]))\n",
    "    r2.append(r2_score(X_val[target_list[i]], y_pred[:, i]))\n",
    "print(f\"RMSE:\")\n",
    "[print(f\"\\t{target}: {score:.3f}\") for target, score in zip(target_list, rmse)]\n",
    "       \n",
    "print(f\"R2 score:\")\n",
    "[print(f\"\\t{target}: {score:.3f}\") for target, score in zip(target_list, r2)]"
   ]
  },
  {
   "cell_type": "code",
   "execution_count": 26,
   "id": "12454bdb",
   "metadata": {},
   "outputs": [],
   "source": [
    "# np.savetxt(\"rf_val.csv\", y_pred)"
   ]
  }
 ],
 "metadata": {
  "kernelspec": {
   "display_name": "Python 3 (ipykernel)",
   "language": "python",
   "name": "python3"
  },
  "language_info": {
   "codemirror_mode": {
    "name": "ipython",
    "version": 3
   },
   "file_extension": ".py",
   "mimetype": "text/x-python",
   "name": "python",
   "nbconvert_exporter": "python",
   "pygments_lexer": "ipython3",
   "version": "3.8.16"
  }
 },
 "nbformat": 4,
 "nbformat_minor": 5
}
